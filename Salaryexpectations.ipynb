{
  "nbformat": 4,
  "nbformat_minor": 0,
  "metadata": {
    "colab": {
      "provenance": []
    },
    "kernelspec": {
      "name": "python3",
      "display_name": "Python 3"
    },
    "language_info": {
      "name": "python"
    }
  },
  "cells": [
    {
      "cell_type": "code",
      "execution_count": 5,
      "metadata": {
        "colab": {
          "base_uri": "https://localhost:8080/"
        },
        "id": "UrUDVfa2v3Ei",
        "outputId": "3f7d5b06-2c56-44c3-a794-001f3dea95dd"
      },
      "outputs": [
        {
          "output_type": "stream",
          "name": "stdout",
          "text": [
            "Salary expectation per month $4500\n"
          ]
        }
      ],
      "source": [
        "print(\"Salary expectation per month $4500\")"
      ]
    }
  ]
}