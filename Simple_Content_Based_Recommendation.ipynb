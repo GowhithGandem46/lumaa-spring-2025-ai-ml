{
  "nbformat": 4,
  "nbformat_minor": 0,
  "metadata": {
    "colab": {
      "provenance": []
    },
    "kernelspec": {
      "name": "python3",
      "display_name": "Python 3"
    },
    "language_info": {
      "name": "python"
    }
  },
  "cells": [
    {
      "cell_type": "code",
      "execution_count": null,
      "metadata": {
        "id": "EitxkyQb3uqn"
      },
      "outputs": [],
      "source": [
        "import numpy as bp\n",
        "import pandas as pd\n",
        "pd.set_option('display.max_columns',None)\n",
        "pd.set_option('display.width',500)\n",
        "pd.set_option('display.expand_frame_repr',False)\n",
        "from sklearn.feature_extraction.text import TfidfVectorizer\n",
        "from sklearn.metrics.pairwise import cosine_similarity"
      ]
    },
    {
      "cell_type": "code",
      "source": [
        "# 1. Load the dataset\n",
        "file_path = '/content/MovieDataset.csv'  # Change this path to your actual CSV file path\n",
        "df = pd.read_csv(file_path)\n",
        "\n",
        "# Ensure CSV has 'title' and 'plot' columns\n",
        "if 'title' not in df.columns or 'plot' not in df.columns:\n",
        "    raise ValueError(\"CSV must contain 'title' and 'plot' columns\")\n",
        "\n",
        "# Handle missing values by filling them with an empty string\n",
        "df['plot'] = df['plot'].fillna('')\n",
        "\n",
        "# 2. User query (input description)\n",
        "user_query = \"I enjoy thrilling heist movies with unexpected twists\"\n",
        "\n",
        "# 3. Vectorization: TF-IDF for dataset plot summaries\n",
        "vectorizer = TfidfVectorizer(stop_words='english')  # Consider using built-in stop words\n",
        "\n",
        "# Fit the vectorizer on the dataset and transform the plots\n",
        "tfidf_matrix = vectorizer.fit_transform(df['plot'])\n",
        "\n",
        "# 4. Transform the user query using the same vectorizer\n",
        "user_query_tfidf = vectorizer.transform([user_query])\n",
        "\n",
        "# 5. Compute Cosine Similarity: Compute similarity between the user query and dataset items\n",
        "cosine_similarities = cosine_similarity(user_query_tfidf, tfidf_matrix)\n",
        "\n",
        "# 6. Get top 5 most similar items (movies)\n",
        "top_n = 5  # Number of top recommendations to return\n",
        "\n",
        "# Get the similarities and corresponding indices\n",
        "similarities = cosine_similarities[0]\n",
        "indices = list(range(len(similarities)))\n",
        "\n",
        "# Sort: order the indices based on similarity from highest to lowest\n",
        "indices.sort(key=lambda x: similarities[x], reverse=True)\n",
        "\n",
        "# Get the top_n indices\n",
        "top_indices = indices[:top_n]\n",
        "\n",
        "# Output the recommended movies with a formatted display\n",
        "for idx in top_indices:\n",
        "    title = df.iloc[idx]['title']\n",
        "    similarity_score = similarities[idx]\n",
        "    print(f\"{idx+1}. {title}\\n   Similarity: {similarity_score:.4f}\")"
      ],
      "metadata": {
        "id": "cTZGqbDx4rnY",
        "colab": {
          "base_uri": "https://localhost:8080/"
        },
        "outputId": "5d315d4f-13c0-45a8-faff-54f003c25d8a"
      },
      "execution_count": 31,
      "outputs": [
        {
          "output_type": "stream",
          "name": "stdout",
          "text": [
            "8. Pulp Fiction\n",
            "   Similarity: 0.2202\n",
            "14. The Prestige\n",
            "   Similarity: 0.1333\n",
            "63. The Grand Budapest Hotel\n",
            "   Similarity: 0.1323\n",
            "23. The Usual Suspects\n",
            "   Similarity: 0.1320\n",
            "64. Lost in Translation\n",
            "   Similarity: 0.1046\n"
          ]
        }
      ]
    }
  ]
}